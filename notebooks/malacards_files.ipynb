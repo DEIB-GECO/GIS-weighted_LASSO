{
 "cells": [
  {
   "cell_type": "code",
   "execution_count": 34,
   "metadata": {},
   "outputs": [],
   "source": [
    "import numpy as np\n",
    "import pandas as pd"
   ]
  },
  {
   "cell_type": "code",
   "execution_count": 35,
   "metadata": {},
   "outputs": [],
   "source": [
    "file_malacards_breast = '/home/mongardi/Metagene_repo/data/prior_knowledge/malacards_breast.xlsx'\n",
    "file_malacards_colorectal = '/home/mongardi/Metagene_repo/data/prior_knowledge/malacards_colorectal.xlsx'"
   ]
  },
  {
   "cell_type": "markdown",
   "metadata": {},
   "source": [
    "# BRCA"
   ]
  },
  {
   "cell_type": "code",
   "execution_count": 36,
   "metadata": {},
   "outputs": [
    {
     "data": {
      "text/plain": [
       "(1251, 5)"
      ]
     },
     "execution_count": 36,
     "metadata": {},
     "output_type": "execute_result"
    }
   ],
   "source": [
    "df_malacards_breast = pd.read_excel(file_malacards_breast)\n",
    "df_malacards_breast = df_malacards_breast[['#', 'Symbol', 'Description', 'Category', 'Score']]\n",
    "df_malacards_breast.shape\n",
    "# we have 1,251 genes on malacards\n",
    "df_malacards_breast = df_malacards_breast.loc[df_malacards_breast.notna().all(axis=1)]\n",
    "df_malacards_breast.shape"
   ]
  },
  {
   "cell_type": "code",
   "execution_count": 37,
   "metadata": {},
   "outputs": [
    {
     "data": {
      "text/html": [
       "<div>\n",
       "<style scoped>\n",
       "    .dataframe tbody tr th:only-of-type {\n",
       "        vertical-align: middle;\n",
       "    }\n",
       "\n",
       "    .dataframe tbody tr th {\n",
       "        vertical-align: top;\n",
       "    }\n",
       "\n",
       "    .dataframe thead th {\n",
       "        text-align: right;\n",
       "    }\n",
       "</style>\n",
       "<table border=\"1\" class=\"dataframe\">\n",
       "  <thead>\n",
       "    <tr style=\"text-align: right;\">\n",
       "      <th></th>\n",
       "      <th>Description</th>\n",
       "      <th>Category</th>\n",
       "      <th>Score</th>\n",
       "    </tr>\n",
       "    <tr>\n",
       "      <th>Symbol</th>\n",
       "      <th></th>\n",
       "      <th></th>\n",
       "      <th></th>\n",
       "    </tr>\n",
       "  </thead>\n",
       "  <tbody>\n",
       "    <tr>\n",
       "      <th>BRCA2</th>\n",
       "      <td>BRCA2 DNA Repair Associated</td>\n",
       "      <td>Protein Coding</td>\n",
       "      <td>1530.89</td>\n",
       "    </tr>\n",
       "    <tr>\n",
       "      <th>BRIP1</th>\n",
       "      <td>BRCA1 Interacting Helicase 1</td>\n",
       "      <td>Protein Coding</td>\n",
       "      <td>1453.37</td>\n",
       "    </tr>\n",
       "    <tr>\n",
       "      <th>RAD51</th>\n",
       "      <td>RAD51 Recombinase</td>\n",
       "      <td>Protein Coding</td>\n",
       "      <td>1441.42</td>\n",
       "    </tr>\n",
       "    <tr>\n",
       "      <th>PIK3CA</th>\n",
       "      <td>Phosphatidylinositol-4,5-Bisphosphate 3-Kinase...</td>\n",
       "      <td>Protein Coding</td>\n",
       "      <td>1427.84</td>\n",
       "    </tr>\n",
       "    <tr>\n",
       "      <th>AKT1</th>\n",
       "      <td>AKT Serine/Threonine Kinase 1</td>\n",
       "      <td>Protein Coding</td>\n",
       "      <td>1410.4</td>\n",
       "    </tr>\n",
       "  </tbody>\n",
       "</table>\n",
       "</div>"
      ],
      "text/plain": [
       "                                              Description        Category  \\\n",
       "Symbol                                                                      \n",
       "BRCA2                         BRCA2 DNA Repair Associated  Protein Coding   \n",
       "BRIP1                        BRCA1 Interacting Helicase 1  Protein Coding   \n",
       "RAD51                                   RAD51 Recombinase  Protein Coding   \n",
       "PIK3CA  Phosphatidylinositol-4,5-Bisphosphate 3-Kinase...  Protein Coding   \n",
       "AKT1                        AKT Serine/Threonine Kinase 1  Protein Coding   \n",
       "\n",
       "          Score  \n",
       "Symbol           \n",
       "BRCA2   1530.89  \n",
       "BRIP1   1453.37  \n",
       "RAD51   1441.42  \n",
       "PIK3CA  1427.84  \n",
       "AKT1     1410.4  "
      ]
     },
     "execution_count": 37,
     "metadata": {},
     "output_type": "execute_result"
    }
   ],
   "source": [
    "df_malacards_breast = df_malacards_breast.set_index('Symbol')\n",
    "df_malacards_breast = df_malacards_breast.drop('#', axis=1)\n",
    "df_malacards_breast.head()"
   ]
  },
  {
   "cell_type": "code",
   "execution_count": 38,
   "metadata": {},
   "outputs": [
    {
     "data": {
      "text/plain": [
       "(1034, 3)"
      ]
     },
     "execution_count": 38,
     "metadata": {},
     "output_type": "execute_result"
    }
   ],
   "source": [
    "df_malacards_breast_coding = df_malacards_breast.loc[df_malacards_breast['Category']=='Protein Coding']\n",
    "df_malacards_breast_coding.shape"
   ]
  },
  {
   "cell_type": "code",
   "execution_count": 39,
   "metadata": {},
   "outputs": [],
   "source": [
    "df_malacards_breast_coding.to_csv('/home/mongardi/Metagene_repo/data/prior_knowledge/malacards_breast_coding.csv')"
   ]
  },
  {
   "cell_type": "markdown",
   "metadata": {},
   "source": [
    "# CRC"
   ]
  },
  {
   "cell_type": "code",
   "execution_count": 40,
   "metadata": {},
   "outputs": [
    {
     "data": {
      "text/plain": [
       "(1207, 5)"
      ]
     },
     "execution_count": 40,
     "metadata": {},
     "output_type": "execute_result"
    }
   ],
   "source": [
    "df_malacards_colorectal = pd.read_excel(file_malacards_colorectal)\n",
    "df_malacards_colorectal = df_malacards_colorectal[['#', 'Symbol', 'Description', 'Category', 'Score']]\n",
    "df_malacards_colorectal.shape\n",
    "# we have 1,207 genes on malacards\n",
    "df_malacards_colorectal = df_malacards_colorectal.loc[df_malacards_colorectal.notna().all(axis=1)]\n",
    "df_malacards_colorectal.shape"
   ]
  },
  {
   "cell_type": "code",
   "execution_count": 41,
   "metadata": {},
   "outputs": [
    {
     "data": {
      "text/html": [
       "<div>\n",
       "<style scoped>\n",
       "    .dataframe tbody tr th:only-of-type {\n",
       "        vertical-align: middle;\n",
       "    }\n",
       "\n",
       "    .dataframe tbody tr th {\n",
       "        vertical-align: top;\n",
       "    }\n",
       "\n",
       "    .dataframe thead th {\n",
       "        text-align: right;\n",
       "    }\n",
       "</style>\n",
       "<table border=\"1\" class=\"dataframe\">\n",
       "  <thead>\n",
       "    <tr style=\"text-align: right;\">\n",
       "      <th></th>\n",
       "      <th>Description</th>\n",
       "      <th>Category</th>\n",
       "      <th>Score</th>\n",
       "    </tr>\n",
       "    <tr>\n",
       "      <th>Symbol</th>\n",
       "      <th></th>\n",
       "      <th></th>\n",
       "      <th></th>\n",
       "    </tr>\n",
       "  </thead>\n",
       "  <tbody>\n",
       "    <tr>\n",
       "      <th>CTNNB1</th>\n",
       "      <td>Catenin Beta 1</td>\n",
       "      <td>Protein Coding</td>\n",
       "      <td>1468.05</td>\n",
       "    </tr>\n",
       "    <tr>\n",
       "      <th>BRAF</th>\n",
       "      <td>B-Raf Proto-Oncogene, Serine/Threonine Kinase</td>\n",
       "      <td>Protein Coding</td>\n",
       "      <td>1459.02</td>\n",
       "    </tr>\n",
       "    <tr>\n",
       "      <th>PIK3CA</th>\n",
       "      <td>Phosphatidylinositol-4,5-Bisphosphate 3-Kinase...</td>\n",
       "      <td>Protein Coding</td>\n",
       "      <td>1426.12</td>\n",
       "    </tr>\n",
       "    <tr>\n",
       "      <th>PDGFRL</th>\n",
       "      <td>Platelet Derived Growth Factor Receptor Like</td>\n",
       "      <td>Protein Coding</td>\n",
       "      <td>1347.56</td>\n",
       "    </tr>\n",
       "    <tr>\n",
       "      <th>TP53</th>\n",
       "      <td>Tumor Protein P53</td>\n",
       "      <td>Protein Coding</td>\n",
       "      <td>1168.06</td>\n",
       "    </tr>\n",
       "  </tbody>\n",
       "</table>\n",
       "</div>"
      ],
      "text/plain": [
       "                                              Description        Category  \\\n",
       "Symbol                                                                      \n",
       "CTNNB1                                     Catenin Beta 1  Protein Coding   \n",
       "BRAF        B-Raf Proto-Oncogene, Serine/Threonine Kinase  Protein Coding   \n",
       "PIK3CA  Phosphatidylinositol-4,5-Bisphosphate 3-Kinase...  Protein Coding   \n",
       "PDGFRL       Platelet Derived Growth Factor Receptor Like  Protein Coding   \n",
       "TP53                                    Tumor Protein P53  Protein Coding   \n",
       "\n",
       "          Score  \n",
       "Symbol           \n",
       "CTNNB1  1468.05  \n",
       "BRAF    1459.02  \n",
       "PIK3CA  1426.12  \n",
       "PDGFRL  1347.56  \n",
       "TP53    1168.06  "
      ]
     },
     "execution_count": 41,
     "metadata": {},
     "output_type": "execute_result"
    }
   ],
   "source": [
    "df_malacards_colorectal = df_malacards_colorectal.set_index('Symbol')\n",
    "df_malacards_colorectal = df_malacards_colorectal.drop('#', axis=1)\n",
    "df_malacards_colorectal.head()"
   ]
  },
  {
   "cell_type": "code",
   "execution_count": 42,
   "metadata": {},
   "outputs": [
    {
     "data": {
      "text/plain": [
       "(921, 3)"
      ]
     },
     "execution_count": 42,
     "metadata": {},
     "output_type": "execute_result"
    }
   ],
   "source": [
    "df_malacards_colorectal_coding = df_malacards_colorectal.loc[df_malacards_colorectal['Category']=='Protein Coding']\n",
    "df_malacards_colorectal_coding.shape"
   ]
  },
  {
   "cell_type": "code",
   "execution_count": 43,
   "metadata": {},
   "outputs": [],
   "source": [
    "df_malacards_colorectal_coding.to_csv('/home/mongardi/Metagene_repo/data/prior_knowledge/malacards_colerectal_coding.csv')"
   ]
  }
 ],
 "metadata": {
  "kernelspec": {
   "display_name": "myenv",
   "language": "python",
   "name": "python3"
  },
  "language_info": {
   "codemirror_mode": {
    "name": "ipython",
    "version": 3
   },
   "file_extension": ".py",
   "mimetype": "text/x-python",
   "name": "python",
   "nbconvert_exporter": "python",
   "pygments_lexer": "ipython3",
   "version": "3.9.16"
  }
 },
 "nbformat": 4,
 "nbformat_minor": 2
}
